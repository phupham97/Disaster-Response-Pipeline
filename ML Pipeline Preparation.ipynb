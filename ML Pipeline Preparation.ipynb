{
 "cells": [
  {
   "cell_type": "markdown",
   "metadata": {},
   "source": [
    "# ML Pipeline Preparation\n",
    "Follow the instructions below to help you create your ML pipeline.\n",
    "### 1. Import libraries and load data from database.\n",
    "- Import Python libraries\n",
    "- Load dataset from database with [`read_sql_table`](https://pandas.pydata.org/pandas-docs/stable/generated/pandas.read_sql_table.html)\n",
    "- Define feature and target variables X and Y"
   ]
  },
  {
   "cell_type": "code",
   "execution_count": 1,
   "metadata": {},
   "outputs": [
    {
     "name": "stdout",
     "output_type": "stream",
     "text": [
      "[nltk_data] Downloading package wordnet to /root/nltk_data...\n",
      "[nltk_data]   Unzipping corpora/wordnet.zip.\n",
      "[nltk_data] Downloading package stopwords to /root/nltk_data...\n",
      "[nltk_data]   Unzipping corpora/stopwords.zip.\n",
      "[nltk_data] Downloading package punkt to /root/nltk_data...\n",
      "[nltk_data]   Unzipping tokenizers/punkt.zip.\n"
     ]
    },
    {
     "data": {
      "text/plain": [
       "True"
      ]
     },
     "execution_count": 1,
     "metadata": {},
     "output_type": "execute_result"
    }
   ],
   "source": [
    "# Import libraries\n",
    "import pandas as pd\n",
    "from sqlalchemy import create_engine\n",
    "import numpy as np\n",
    "from sklearn.pipeline import Pipeline\n",
    "from sklearn.feature_extraction.text import CountVectorizer, TfidfTransformer\n",
    "from sklearn.model_selection import train_test_split, GridSearchCV\n",
    "from sklearn.ensemble import RandomForestClassifier\n",
    "from sklearn.multioutput import MultiOutputClassifier\n",
    "from sklearn.metrics import make_scorer, f1_score, classification_report\n",
    "from sklearn.model_selection import GridSearchCV\n",
    "from sklearn.neighbors import KNeighborsClassifier\n",
    "import re\n",
    "import pickle\n",
    "import nltk\n",
    "from nltk.corpus import stopwords\n",
    "from nltk.tokenize import word_tokenize\n",
    "from nltk.stem.wordnet import WordNetLemmatizer\n",
    "nltk.download('wordnet') \n",
    "nltk.download('stopwords')\n",
    "nltk.download('punkt')"
   ]
  },
  {
   "cell_type": "code",
   "execution_count": 2,
   "metadata": {},
   "outputs": [],
   "source": [
    "# load dataset\n",
    "engine = create_engine('sqlite:///Messages.db')\n",
    "df = pd.read_sql(\"SELECT * FROM Messages\", engine)\n",
    "X = df['message']\n",
    "Y = df.drop(['id', 'message', 'original', 'genre'], axis = 1)"
   ]
  },
  {
   "cell_type": "markdown",
   "metadata": {},
   "source": [
    "### 2. Write a tokenization function to process your text data"
   ]
  },
  {
   "cell_type": "code",
   "execution_count": 3,
   "metadata": {},
   "outputs": [],
   "source": [
    "def tokenize(text):\n",
    "    text = re.sub(r\"[^a-zA-Z0-9]\", \" \", text.lower())\n",
    "    tokens = word_tokenize(text)\n",
    "    lemmatizer = WordNetLemmatizer()\n",
    "    stop_words = stopwords.words(\"english\")\n",
    "    tokens = [lemmatizer.lemmatize(word) for word in tokens if word not in stop_words]\n",
    "    return tokens"
   ]
  },
  {
   "cell_type": "markdown",
   "metadata": {},
   "source": [
    "### 3. Build a machine learning pipeline\n",
    "This machine pipeline should take in the `message` column as input and output classification results on the other 36 categories in the dataset. You may find the [MultiOutputClassifier](http://scikit-learn.org/stable/modules/generated/sklearn.multioutput.MultiOutputClassifier.html) helpful for predicting multiple target variables."
   ]
  },
  {
   "cell_type": "code",
   "execution_count": null,
   "metadata": {},
   "outputs": [],
   "source": [
    "In this part I will use Random Forest Classifier model."
   ]
  },
  {
   "cell_type": "code",
   "execution_count": 4,
   "metadata": {},
   "outputs": [],
   "source": [
    "pipe = Pipeline([\n",
    "    ('vect', CountVectorizer(tokenizer = tokenize)),\n",
    "    ('tfidf', TfidfTransformer()),\n",
    "    ('clf', MultiOutputClassifier(RandomForestClassifier()))\n",
    "])"
   ]
  },
  {
   "cell_type": "markdown",
   "metadata": {},
   "source": [
    "### 4. Train pipeline\n",
    "- Split data into train and test sets\n",
    "- Train pipeline"
   ]
  },
  {
   "cell_type": "code",
   "execution_count": 5,
   "metadata": {},
   "outputs": [
    {
     "data": {
      "text/plain": [
       "Pipeline(memory=None,\n",
       "     steps=[('vect', CountVectorizer(analyzer='word', binary=False, decode_error='strict',\n",
       "        dtype=<class 'numpy.int64'>, encoding='utf-8', input='content',\n",
       "        lowercase=True, max_df=1.0, max_features=None, min_df=1,\n",
       "        ngram_range=(1, 1), preprocessor=None, stop_words=None,\n",
       "        strip...oob_score=False, random_state=None, verbose=0,\n",
       "            warm_start=False),\n",
       "           n_jobs=1))])"
      ]
     },
     "execution_count": 5,
     "metadata": {},
     "output_type": "execute_result"
    }
   ],
   "source": [
    "# Split data into train and test sets\n",
    "X_train, X_test, Y_train, Y_test = train_test_split(X, Y, test_size = 0.2, random_state = 42)\n",
    "# Train pipeline\n",
    "pipe.fit(X_train, Y_train)"
   ]
  },
  {
   "cell_type": "markdown",
   "metadata": {},
   "source": [
    "### 5. Test your model\n",
    "Report the f1 score, precision and recall for each output category of the dataset. You can do this by iterating through the columns and calling sklearn's `classification_report` on each."
   ]
  },
  {
   "cell_type": "code",
   "execution_count": 6,
   "metadata": {},
   "outputs": [],
   "source": [
    "# Define function to calculate accuracy:\n",
    "def class_report(Array1, Array2, col_names):\n",
    "    class_report = []\n",
    "    # Evaluate metrics for each set of labels\n",
    "    for i in range(len(col_names)):\n",
    "        precision = classification_report(Array1[:,i], Array2[:,i]).split()[-4]\n",
    "        recall = classification_report(Array1[:,i], Array2[:,i]).split()[-3]\n",
    "        f1 = classification_report(Array1[:,i], Array2[:,i]).split()[-2]\n",
    "        class_report.append([precision, recall, f1])\n",
    "    # Store metrics\n",
    "    class_report = np.array(class_report)\n",
    "    data_report = pd.DataFrame(data = class_report, index = col_names, columns = ['Precision', 'Recall', 'F1'])\n",
    "      \n",
    "    return data_report"
   ]
  },
  {
   "cell_type": "code",
   "execution_count": 7,
   "metadata": {},
   "outputs": [],
   "source": [
    "# Predict the output:\n",
    "Y_train_pred = pipe.predict(X_train)"
   ]
  },
  {
   "cell_type": "code",
   "execution_count": 8,
   "metadata": {},
   "outputs": [
    {
     "name": "stdout",
     "output_type": "stream",
     "text": [
      "                       Precision Recall    F1\n",
      "related                     0.99   0.99  0.99\n",
      "request                     0.99   0.99  0.99\n",
      "offer                       1.00   1.00  1.00\n",
      "aid_related                 0.99   0.98  0.98\n",
      "medical_help                0.99   0.99  0.99\n",
      "medical_products            0.99   0.99  0.99\n",
      "search_and_rescue           0.99   0.99  0.99\n",
      "security                    1.00   1.00  0.99\n",
      "military                    1.00   1.00  1.00\n",
      "water                       1.00   1.00  1.00\n",
      "food                        1.00   1.00  1.00\n",
      "shelter                     0.99   0.99  0.99\n",
      "clothing                    1.00   1.00  1.00\n",
      "money                       1.00   1.00  0.99\n",
      "missing_people              1.00   1.00  1.00\n",
      "refugees                    0.99   0.99  0.99\n",
      "death                       0.99   0.99  0.99\n",
      "other_aid                   0.98   0.98  0.98\n",
      "infrastructure_related      0.99   0.99  0.98\n",
      "transport                   0.99   0.99  0.99\n",
      "buildings                   0.99   0.99  0.99\n",
      "electricity                 1.00   1.00  1.00\n",
      "tools                       1.00   1.00  1.00\n",
      "hospitals                   1.00   1.00  1.00\n",
      "shops                       1.00   1.00  1.00\n",
      "aid_centers                 1.00   1.00  1.00\n",
      "other_infrastructure        0.99   0.99  0.99\n",
      "weather_related             0.99   0.99  0.99\n",
      "floods                      0.99   0.99  0.99\n",
      "storm                       0.99   0.99  0.99\n",
      "fire                        1.00   1.00  1.00\n",
      "earthquake                  1.00   1.00  1.00\n",
      "cold                        1.00   1.00  1.00\n",
      "other_weather               0.99   0.99  0.99\n",
      "direct_report               0.98   0.98  0.98\n"
     ]
    }
   ],
   "source": [
    "# Calculate accuracy for training set\n",
    "col_names = list(Y.columns.values)\n",
    "print(class_report(np.array(Y_train), Y_train_pred, col_names))"
   ]
  },
  {
   "cell_type": "code",
   "execution_count": 9,
   "metadata": {},
   "outputs": [
    {
     "name": "stdout",
     "output_type": "stream",
     "text": [
      "                       Precision Recall    F1\n",
      "related                     0.80   0.82  0.80\n",
      "request                     0.88   0.89  0.88\n",
      "offer                       0.99   1.00  0.99\n",
      "aid_related                 0.75   0.75  0.75\n",
      "medical_help                0.90   0.92  0.89\n",
      "medical_products            0.94   0.95  0.94\n",
      "search_and_rescue           0.97   0.97  0.96\n",
      "security                    0.96   0.98  0.97\n",
      "military                    0.96   0.97  0.96\n",
      "water                       0.95   0.95  0.94\n",
      "food                        0.93   0.94  0.93\n",
      "shelter                     0.93   0.93  0.92\n",
      "clothing                    0.98   0.99  0.98\n",
      "money                       0.98   0.98  0.97\n",
      "missing_people              0.98   0.99  0.98\n",
      "refugees                    0.95   0.97  0.96\n",
      "death                       0.95   0.96  0.95\n",
      "other_aid                   0.83   0.87  0.83\n",
      "infrastructure_related      0.88   0.94  0.91\n",
      "transport                   0.95   0.96  0.95\n",
      "buildings                   0.94   0.95  0.93\n",
      "electricity                 0.98   0.98  0.97\n",
      "tools                       0.99   0.99  0.99\n",
      "hospitals                   0.98   0.99  0.99\n",
      "shops                       0.99   1.00  0.99\n",
      "aid_centers                 0.98   0.99  0.98\n",
      "other_infrastructure        0.94   0.96  0.94\n",
      "weather_related             0.85   0.85  0.85\n",
      "floods                      0.93   0.94  0.92\n",
      "storm                       0.92   0.92  0.91\n",
      "fire                        0.99   0.99  0.99\n",
      "earthquake                  0.96   0.97  0.96\n",
      "cold                        0.98   0.98  0.97\n",
      "other_weather               0.93   0.95  0.93\n",
      "direct_report               0.83   0.84  0.82\n"
     ]
    },
    {
     "name": "stderr",
     "output_type": "stream",
     "text": [
      "/opt/conda/lib/python3.6/site-packages/sklearn/metrics/classification.py:1135: UndefinedMetricWarning: Precision and F-score are ill-defined and being set to 0.0 in labels with no predicted samples.\n",
      "  'precision', 'predicted', average, warn_for)\n"
     ]
    }
   ],
   "source": [
    "# Calculate accuracy for test set\n",
    "Y_test_pred = pipe.predict(X_test)\n",
    "\n",
    "print(class_report(np.array(Y_test), Y_test_pred, col_names))"
   ]
  },
  {
   "cell_type": "markdown",
   "metadata": {},
   "source": [
    "### 6. Improve your model\n",
    "Use grid search to find better parameters. "
   ]
  },
  {
   "cell_type": "markdown",
   "metadata": {},
   "source": [
    "Because F1 score is combination index of Precision and Recall, I will use F1 score to find better parameters."
   ]
  },
  {
   "cell_type": "code",
   "execution_count": 10,
   "metadata": {},
   "outputs": [],
   "source": [
    "# Define f1 metric for use in grid search scoring object\n",
    "def f1_metric(y_true, y_pred):\n",
    "    f1_list = []\n",
    "    for i in range(np.shape(y_pred)[1]):\n",
    "        f1 = f1_score(np.array(y_true)[:, i], y_pred[:, i])\n",
    "        f1_list.append(f1)\n",
    "        \n",
    "    avg_f1 = np.mean(f1_list)\n",
    "    return avg_f1"
   ]
  },
  {
   "cell_type": "code",
   "execution_count": 11,
   "metadata": {},
   "outputs": [
    {
     "data": {
      "text/plain": [
       "{'memory': None,\n",
       " 'steps': [('vect',\n",
       "   CountVectorizer(analyzer='word', binary=False, decode_error='strict',\n",
       "           dtype=<class 'numpy.int64'>, encoding='utf-8', input='content',\n",
       "           lowercase=True, max_df=1.0, max_features=None, min_df=1,\n",
       "           ngram_range=(1, 1), preprocessor=None, stop_words=None,\n",
       "           strip_accents=None, token_pattern='(?u)\\\\b\\\\w\\\\w+\\\\b',\n",
       "           tokenizer=<function tokenize at 0x7fd05811fd90>, vocabulary=None)),\n",
       "  ('tfidf',\n",
       "   TfidfTransformer(norm='l2', smooth_idf=True, sublinear_tf=False, use_idf=True)),\n",
       "  ('clf',\n",
       "   MultiOutputClassifier(estimator=RandomForestClassifier(bootstrap=True, class_weight=None, criterion='gini',\n",
       "               max_depth=None, max_features='auto', max_leaf_nodes=None,\n",
       "               min_impurity_decrease=0.0, min_impurity_split=None,\n",
       "               min_samples_leaf=1, min_samples_split=2,\n",
       "               min_weight_fraction_leaf=0.0, n_estimators=10, n_jobs=1,\n",
       "               oob_score=False, random_state=None, verbose=0,\n",
       "               warm_start=False),\n",
       "              n_jobs=1))],\n",
       " 'vect': CountVectorizer(analyzer='word', binary=False, decode_error='strict',\n",
       "         dtype=<class 'numpy.int64'>, encoding='utf-8', input='content',\n",
       "         lowercase=True, max_df=1.0, max_features=None, min_df=1,\n",
       "         ngram_range=(1, 1), preprocessor=None, stop_words=None,\n",
       "         strip_accents=None, token_pattern='(?u)\\\\b\\\\w\\\\w+\\\\b',\n",
       "         tokenizer=<function tokenize at 0x7fd05811fd90>, vocabulary=None),\n",
       " 'tfidf': TfidfTransformer(norm='l2', smooth_idf=True, sublinear_tf=False, use_idf=True),\n",
       " 'clf': MultiOutputClassifier(estimator=RandomForestClassifier(bootstrap=True, class_weight=None, criterion='gini',\n",
       "             max_depth=None, max_features='auto', max_leaf_nodes=None,\n",
       "             min_impurity_decrease=0.0, min_impurity_split=None,\n",
       "             min_samples_leaf=1, min_samples_split=2,\n",
       "             min_weight_fraction_leaf=0.0, n_estimators=10, n_jobs=1,\n",
       "             oob_score=False, random_state=None, verbose=0,\n",
       "             warm_start=False),\n",
       "            n_jobs=1),\n",
       " 'vect__analyzer': 'word',\n",
       " 'vect__binary': False,\n",
       " 'vect__decode_error': 'strict',\n",
       " 'vect__dtype': numpy.int64,\n",
       " 'vect__encoding': 'utf-8',\n",
       " 'vect__input': 'content',\n",
       " 'vect__lowercase': True,\n",
       " 'vect__max_df': 1.0,\n",
       " 'vect__max_features': None,\n",
       " 'vect__min_df': 1,\n",
       " 'vect__ngram_range': (1, 1),\n",
       " 'vect__preprocessor': None,\n",
       " 'vect__stop_words': None,\n",
       " 'vect__strip_accents': None,\n",
       " 'vect__token_pattern': '(?u)\\\\b\\\\w\\\\w+\\\\b',\n",
       " 'vect__tokenizer': <function __main__.tokenize(text)>,\n",
       " 'vect__vocabulary': None,\n",
       " 'tfidf__norm': 'l2',\n",
       " 'tfidf__smooth_idf': True,\n",
       " 'tfidf__sublinear_tf': False,\n",
       " 'tfidf__use_idf': True,\n",
       " 'clf__estimator__bootstrap': True,\n",
       " 'clf__estimator__class_weight': None,\n",
       " 'clf__estimator__criterion': 'gini',\n",
       " 'clf__estimator__max_depth': None,\n",
       " 'clf__estimator__max_features': 'auto',\n",
       " 'clf__estimator__max_leaf_nodes': None,\n",
       " 'clf__estimator__min_impurity_decrease': 0.0,\n",
       " 'clf__estimator__min_impurity_split': None,\n",
       " 'clf__estimator__min_samples_leaf': 1,\n",
       " 'clf__estimator__min_samples_split': 2,\n",
       " 'clf__estimator__min_weight_fraction_leaf': 0.0,\n",
       " 'clf__estimator__n_estimators': 10,\n",
       " 'clf__estimator__n_jobs': 1,\n",
       " 'clf__estimator__oob_score': False,\n",
       " 'clf__estimator__random_state': None,\n",
       " 'clf__estimator__verbose': 0,\n",
       " 'clf__estimator__warm_start': False,\n",
       " 'clf__estimator': RandomForestClassifier(bootstrap=True, class_weight=None, criterion='gini',\n",
       "             max_depth=None, max_features='auto', max_leaf_nodes=None,\n",
       "             min_impurity_decrease=0.0, min_impurity_split=None,\n",
       "             min_samples_leaf=1, min_samples_split=2,\n",
       "             min_weight_fraction_leaf=0.0, n_estimators=10, n_jobs=1,\n",
       "             oob_score=False, random_state=None, verbose=0,\n",
       "             warm_start=False),\n",
       " 'clf__n_jobs': 1}"
      ]
     },
     "execution_count": 11,
     "metadata": {},
     "output_type": "execute_result"
    }
   ],
   "source": [
    "# Get the parameters of the pipeline:\n",
    "pipe.get_params()"
   ]
  },
  {
   "cell_type": "markdown",
   "metadata": {},
   "source": [
    "For Random Forest model, here are parameters which will increase the predictive power of the model:\n",
    "- max_features: Increasing max_features generally improves the performance of the model as at each node now we have a higher number of options to be considered. \n",
    "- n_estimators: This is the number of trees you want to build before taking the maximum voting or averages of predictions.\n",
    "- min_sample_leaf: If you have built a decision tree before, you can appreciate the importance of minimum sample leaf size. Leaf is the end node of a decision tree. A smaller leaf makes the model more prone to capturing noise in train data.\n",
    "Therefore, I will use these parameters for tuning:"
   ]
  },
  {
   "cell_type": "code",
   "execution_count": 12,
   "metadata": {},
   "outputs": [
    {
     "name": "stdout",
     "output_type": "stream",
     "text": [
      "Fitting 3 folds for each of 12 candidates, totalling 36 fits\n",
      "[CV] clf__estimator__max_features=auto, clf__estimator__min_samples_leaf=1, clf__estimator__n_estimators=10 \n"
     ]
    },
    {
     "name": "stderr",
     "output_type": "stream",
     "text": [
      "/opt/conda/lib/python3.6/site-packages/sklearn/metrics/classification.py:1135: UndefinedMetricWarning: F-score is ill-defined and being set to 0.0 due to no predicted samples.\n",
      "  'precision', 'predicted', average, warn_for)\n"
     ]
    },
    {
     "name": "stdout",
     "output_type": "stream",
     "text": [
      "[CV]  clf__estimator__max_features=auto, clf__estimator__min_samples_leaf=1, clf__estimator__n_estimators=10, score=0.23743645216154152, total=  51.9s\n",
      "[CV] clf__estimator__max_features=auto, clf__estimator__min_samples_leaf=1, clf__estimator__n_estimators=10 \n"
     ]
    },
    {
     "name": "stderr",
     "output_type": "stream",
     "text": [
      "[Parallel(n_jobs=1)]: Done   1 out of   1 | elapsed:  1.1min remaining:    0.0s\n",
      "/opt/conda/lib/python3.6/site-packages/sklearn/metrics/classification.py:1135: UndefinedMetricWarning: F-score is ill-defined and being set to 0.0 due to no predicted samples.\n",
      "  'precision', 'predicted', average, warn_for)\n"
     ]
    },
    {
     "name": "stdout",
     "output_type": "stream",
     "text": [
      "[CV]  clf__estimator__max_features=auto, clf__estimator__min_samples_leaf=1, clf__estimator__n_estimators=10, score=0.24081670332497046, total=  51.9s\n",
      "[CV] clf__estimator__max_features=auto, clf__estimator__min_samples_leaf=1, clf__estimator__n_estimators=10 \n"
     ]
    },
    {
     "name": "stderr",
     "output_type": "stream",
     "text": [
      "[Parallel(n_jobs=1)]: Done   2 out of   2 | elapsed:  2.2min remaining:    0.0s\n",
      "/opt/conda/lib/python3.6/site-packages/sklearn/metrics/classification.py:1135: UndefinedMetricWarning: F-score is ill-defined and being set to 0.0 due to no predicted samples.\n",
      "  'precision', 'predicted', average, warn_for)\n"
     ]
    },
    {
     "name": "stdout",
     "output_type": "stream",
     "text": [
      "[CV]  clf__estimator__max_features=auto, clf__estimator__min_samples_leaf=1, clf__estimator__n_estimators=10, score=0.24568274402128099, total=  52.7s\n",
      "[CV] clf__estimator__max_features=auto, clf__estimator__min_samples_leaf=1, clf__estimator__n_estimators=25 \n"
     ]
    },
    {
     "name": "stderr",
     "output_type": "stream",
     "text": [
      "[Parallel(n_jobs=1)]: Done   3 out of   3 | elapsed:  3.3min remaining:    0.0s\n",
      "/opt/conda/lib/python3.6/site-packages/sklearn/metrics/classification.py:1135: UndefinedMetricWarning: F-score is ill-defined and being set to 0.0 due to no predicted samples.\n",
      "  'precision', 'predicted', average, warn_for)\n"
     ]
    },
    {
     "name": "stdout",
     "output_type": "stream",
     "text": [
      "[CV]  clf__estimator__max_features=auto, clf__estimator__min_samples_leaf=1, clf__estimator__n_estimators=25, score=0.26008574044931837, total= 1.8min\n",
      "[CV] clf__estimator__max_features=auto, clf__estimator__min_samples_leaf=1, clf__estimator__n_estimators=25 \n"
     ]
    },
    {
     "name": "stderr",
     "output_type": "stream",
     "text": [
      "[Parallel(n_jobs=1)]: Done   4 out of   4 | elapsed:  5.4min remaining:    0.0s\n",
      "/opt/conda/lib/python3.6/site-packages/sklearn/metrics/classification.py:1135: UndefinedMetricWarning: F-score is ill-defined and being set to 0.0 due to no predicted samples.\n",
      "  'precision', 'predicted', average, warn_for)\n"
     ]
    },
    {
     "name": "stdout",
     "output_type": "stream",
     "text": [
      "[CV]  clf__estimator__max_features=auto, clf__estimator__min_samples_leaf=1, clf__estimator__n_estimators=25, score=0.26123321365088026, total= 1.8min\n",
      "[CV] clf__estimator__max_features=auto, clf__estimator__min_samples_leaf=1, clf__estimator__n_estimators=25 \n"
     ]
    },
    {
     "name": "stderr",
     "output_type": "stream",
     "text": [
      "[Parallel(n_jobs=1)]: Done   5 out of   5 | elapsed:  7.5min remaining:    0.0s\n",
      "/opt/conda/lib/python3.6/site-packages/sklearn/metrics/classification.py:1135: UndefinedMetricWarning: F-score is ill-defined and being set to 0.0 due to no predicted samples.\n",
      "  'precision', 'predicted', average, warn_for)\n"
     ]
    },
    {
     "name": "stdout",
     "output_type": "stream",
     "text": [
      "[CV]  clf__estimator__max_features=auto, clf__estimator__min_samples_leaf=1, clf__estimator__n_estimators=25, score=0.26742298829743955, total= 1.8min\n",
      "[CV] clf__estimator__max_features=auto, clf__estimator__min_samples_leaf=2, clf__estimator__n_estimators=10 \n"
     ]
    },
    {
     "name": "stderr",
     "output_type": "stream",
     "text": [
      "[Parallel(n_jobs=1)]: Done   6 out of   6 | elapsed:  9.6min remaining:    0.0s\n",
      "/opt/conda/lib/python3.6/site-packages/sklearn/metrics/classification.py:1135: UndefinedMetricWarning: F-score is ill-defined and being set to 0.0 due to no predicted samples.\n",
      "  'precision', 'predicted', average, warn_for)\n"
     ]
    },
    {
     "name": "stdout",
     "output_type": "stream",
     "text": [
      "[CV]  clf__estimator__max_features=auto, clf__estimator__min_samples_leaf=2, clf__estimator__n_estimators=10, score=0.18655953188322105, total=  33.7s\n",
      "[CV] clf__estimator__max_features=auto, clf__estimator__min_samples_leaf=2, clf__estimator__n_estimators=10 \n"
     ]
    },
    {
     "name": "stderr",
     "output_type": "stream",
     "text": [
      "[Parallel(n_jobs=1)]: Done   7 out of   7 | elapsed: 10.4min remaining:    0.0s\n",
      "/opt/conda/lib/python3.6/site-packages/sklearn/metrics/classification.py:1135: UndefinedMetricWarning: F-score is ill-defined and being set to 0.0 due to no predicted samples.\n",
      "  'precision', 'predicted', average, warn_for)\n"
     ]
    },
    {
     "name": "stdout",
     "output_type": "stream",
     "text": [
      "[CV]  clf__estimator__max_features=auto, clf__estimator__min_samples_leaf=2, clf__estimator__n_estimators=10, score=0.20711718463999887, total=  33.9s\n",
      "[CV] clf__estimator__max_features=auto, clf__estimator__min_samples_leaf=2, clf__estimator__n_estimators=10 \n"
     ]
    },
    {
     "name": "stderr",
     "output_type": "stream",
     "text": [
      "[Parallel(n_jobs=1)]: Done   8 out of   8 | elapsed: 11.2min remaining:    0.0s\n",
      "/opt/conda/lib/python3.6/site-packages/sklearn/metrics/classification.py:1135: UndefinedMetricWarning: F-score is ill-defined and being set to 0.0 due to no predicted samples.\n",
      "  'precision', 'predicted', average, warn_for)\n"
     ]
    },
    {
     "name": "stdout",
     "output_type": "stream",
     "text": [
      "[CV]  clf__estimator__max_features=auto, clf__estimator__min_samples_leaf=2, clf__estimator__n_estimators=10, score=0.20829125443852253, total=  32.8s\n",
      "[CV] clf__estimator__max_features=auto, clf__estimator__min_samples_leaf=2, clf__estimator__n_estimators=25 \n"
     ]
    },
    {
     "name": "stderr",
     "output_type": "stream",
     "text": [
      "[Parallel(n_jobs=1)]: Done   9 out of   9 | elapsed: 11.9min remaining:    0.0s\n",
      "/opt/conda/lib/python3.6/site-packages/sklearn/metrics/classification.py:1135: UndefinedMetricWarning: F-score is ill-defined and being set to 0.0 due to no predicted samples.\n",
      "  'precision', 'predicted', average, warn_for)\n"
     ]
    },
    {
     "name": "stdout",
     "output_type": "stream",
     "text": [
      "[CV]  clf__estimator__max_features=auto, clf__estimator__min_samples_leaf=2, clf__estimator__n_estimators=25, score=0.19442403524335167, total= 1.0min\n",
      "[CV] clf__estimator__max_features=auto, clf__estimator__min_samples_leaf=2, clf__estimator__n_estimators=25 \n"
     ]
    },
    {
     "name": "stderr",
     "output_type": "stream",
     "text": [
      "/opt/conda/lib/python3.6/site-packages/sklearn/metrics/classification.py:1135: UndefinedMetricWarning: F-score is ill-defined and being set to 0.0 due to no predicted samples.\n",
      "  'precision', 'predicted', average, warn_for)\n"
     ]
    },
    {
     "name": "stdout",
     "output_type": "stream",
     "text": [
      "[CV]  clf__estimator__max_features=auto, clf__estimator__min_samples_leaf=2, clf__estimator__n_estimators=25, score=0.1937131934987043, total= 1.0min\n",
      "[CV] clf__estimator__max_features=auto, clf__estimator__min_samples_leaf=2, clf__estimator__n_estimators=25 \n"
     ]
    },
    {
     "name": "stderr",
     "output_type": "stream",
     "text": [
      "/opt/conda/lib/python3.6/site-packages/sklearn/metrics/classification.py:1135: UndefinedMetricWarning: F-score is ill-defined and being set to 0.0 due to no predicted samples.\n",
      "  'precision', 'predicted', average, warn_for)\n"
     ]
    },
    {
     "name": "stdout",
     "output_type": "stream",
     "text": [
      "[CV]  clf__estimator__max_features=auto, clf__estimator__min_samples_leaf=2, clf__estimator__n_estimators=25, score=0.19680044780157138, total= 1.0min\n",
      "[CV] clf__estimator__max_features=auto, clf__estimator__min_samples_leaf=5, clf__estimator__n_estimators=10 \n"
     ]
    },
    {
     "name": "stderr",
     "output_type": "stream",
     "text": [
      "/opt/conda/lib/python3.6/site-packages/sklearn/metrics/classification.py:1135: UndefinedMetricWarning: F-score is ill-defined and being set to 0.0 due to no predicted samples.\n",
      "  'precision', 'predicted', average, warn_for)\n"
     ]
    },
    {
     "name": "stdout",
     "output_type": "stream",
     "text": [
      "[CV]  clf__estimator__max_features=auto, clf__estimator__min_samples_leaf=5, clf__estimator__n_estimators=10, score=0.15539553798414124, total=  28.2s\n",
      "[CV] clf__estimator__max_features=auto, clf__estimator__min_samples_leaf=5, clf__estimator__n_estimators=10 \n"
     ]
    },
    {
     "name": "stderr",
     "output_type": "stream",
     "text": [
      "/opt/conda/lib/python3.6/site-packages/sklearn/metrics/classification.py:1135: UndefinedMetricWarning: F-score is ill-defined and being set to 0.0 due to no predicted samples.\n",
      "  'precision', 'predicted', average, warn_for)\n"
     ]
    },
    {
     "name": "stdout",
     "output_type": "stream",
     "text": [
      "[CV]  clf__estimator__max_features=auto, clf__estimator__min_samples_leaf=5, clf__estimator__n_estimators=10, score=0.15961203341053637, total=  27.8s\n",
      "[CV] clf__estimator__max_features=auto, clf__estimator__min_samples_leaf=5, clf__estimator__n_estimators=10 \n"
     ]
    },
    {
     "name": "stderr",
     "output_type": "stream",
     "text": [
      "/opt/conda/lib/python3.6/site-packages/sklearn/metrics/classification.py:1135: UndefinedMetricWarning: F-score is ill-defined and being set to 0.0 due to no predicted samples.\n",
      "  'precision', 'predicted', average, warn_for)\n"
     ]
    },
    {
     "name": "stdout",
     "output_type": "stream",
     "text": [
      "[CV]  clf__estimator__max_features=auto, clf__estimator__min_samples_leaf=5, clf__estimator__n_estimators=10, score=0.14330321417723857, total=  28.4s\n",
      "[CV] clf__estimator__max_features=auto, clf__estimator__min_samples_leaf=5, clf__estimator__n_estimators=25 \n"
     ]
    },
    {
     "name": "stderr",
     "output_type": "stream",
     "text": [
      "/opt/conda/lib/python3.6/site-packages/sklearn/metrics/classification.py:1135: UndefinedMetricWarning: F-score is ill-defined and being set to 0.0 due to no predicted samples.\n",
      "  'precision', 'predicted', average, warn_for)\n"
     ]
    },
    {
     "name": "stdout",
     "output_type": "stream",
     "text": [
      "[CV]  clf__estimator__max_features=auto, clf__estimator__min_samples_leaf=5, clf__estimator__n_estimators=25, score=0.13223699474669842, total=  49.1s\n",
      "[CV] clf__estimator__max_features=auto, clf__estimator__min_samples_leaf=5, clf__estimator__n_estimators=25 \n"
     ]
    },
    {
     "name": "stderr",
     "output_type": "stream",
     "text": [
      "/opt/conda/lib/python3.6/site-packages/sklearn/metrics/classification.py:1135: UndefinedMetricWarning: F-score is ill-defined and being set to 0.0 due to no predicted samples.\n",
      "  'precision', 'predicted', average, warn_for)\n"
     ]
    },
    {
     "name": "stdout",
     "output_type": "stream",
     "text": [
      "[CV]  clf__estimator__max_features=auto, clf__estimator__min_samples_leaf=5, clf__estimator__n_estimators=25, score=0.1419983198460561, total=  48.8s\n",
      "[CV] clf__estimator__max_features=auto, clf__estimator__min_samples_leaf=5, clf__estimator__n_estimators=25 \n"
     ]
    },
    {
     "name": "stderr",
     "output_type": "stream",
     "text": [
      "/opt/conda/lib/python3.6/site-packages/sklearn/metrics/classification.py:1135: UndefinedMetricWarning: F-score is ill-defined and being set to 0.0 due to no predicted samples.\n",
      "  'precision', 'predicted', average, warn_for)\n"
     ]
    },
    {
     "name": "stdout",
     "output_type": "stream",
     "text": [
      "[CV]  clf__estimator__max_features=auto, clf__estimator__min_samples_leaf=5, clf__estimator__n_estimators=25, score=0.14027940929082178, total=  48.9s\n",
      "[CV] clf__estimator__max_features=sqrt, clf__estimator__min_samples_leaf=1, clf__estimator__n_estimators=10 \n"
     ]
    },
    {
     "name": "stderr",
     "output_type": "stream",
     "text": [
      "/opt/conda/lib/python3.6/site-packages/sklearn/metrics/classification.py:1135: UndefinedMetricWarning: F-score is ill-defined and being set to 0.0 due to no predicted samples.\n",
      "  'precision', 'predicted', average, warn_for)\n"
     ]
    },
    {
     "name": "stdout",
     "output_type": "stream",
     "text": [
      "[CV]  clf__estimator__max_features=sqrt, clf__estimator__min_samples_leaf=1, clf__estimator__n_estimators=10, score=0.22453125326727497, total=  51.9s\n",
      "[CV] clf__estimator__max_features=sqrt, clf__estimator__min_samples_leaf=1, clf__estimator__n_estimators=10 \n"
     ]
    },
    {
     "name": "stderr",
     "output_type": "stream",
     "text": [
      "/opt/conda/lib/python3.6/site-packages/sklearn/metrics/classification.py:1135: UndefinedMetricWarning: F-score is ill-defined and being set to 0.0 due to no predicted samples.\n",
      "  'precision', 'predicted', average, warn_for)\n"
     ]
    },
    {
     "name": "stdout",
     "output_type": "stream",
     "text": [
      "[CV]  clf__estimator__max_features=sqrt, clf__estimator__min_samples_leaf=1, clf__estimator__n_estimators=10, score=0.2389708723348384, total=  51.8s\n",
      "[CV] clf__estimator__max_features=sqrt, clf__estimator__min_samples_leaf=1, clf__estimator__n_estimators=10 \n"
     ]
    },
    {
     "name": "stderr",
     "output_type": "stream",
     "text": [
      "/opt/conda/lib/python3.6/site-packages/sklearn/metrics/classification.py:1135: UndefinedMetricWarning: F-score is ill-defined and being set to 0.0 due to no predicted samples.\n",
      "  'precision', 'predicted', average, warn_for)\n"
     ]
    },
    {
     "name": "stdout",
     "output_type": "stream",
     "text": [
      "[CV]  clf__estimator__max_features=sqrt, clf__estimator__min_samples_leaf=1, clf__estimator__n_estimators=10, score=0.24061408716634597, total=  51.5s\n",
      "[CV] clf__estimator__max_features=sqrt, clf__estimator__min_samples_leaf=1, clf__estimator__n_estimators=25 \n"
     ]
    },
    {
     "name": "stderr",
     "output_type": "stream",
     "text": [
      "/opt/conda/lib/python3.6/site-packages/sklearn/metrics/classification.py:1135: UndefinedMetricWarning: F-score is ill-defined and being set to 0.0 due to no predicted samples.\n",
      "  'precision', 'predicted', average, warn_for)\n"
     ]
    },
    {
     "name": "stdout",
     "output_type": "stream",
     "text": [
      "[CV]  clf__estimator__max_features=sqrt, clf__estimator__min_samples_leaf=1, clf__estimator__n_estimators=25, score=0.25433502548353953, total= 1.8min\n",
      "[CV] clf__estimator__max_features=sqrt, clf__estimator__min_samples_leaf=1, clf__estimator__n_estimators=25 \n"
     ]
    },
    {
     "name": "stderr",
     "output_type": "stream",
     "text": [
      "/opt/conda/lib/python3.6/site-packages/sklearn/metrics/classification.py:1135: UndefinedMetricWarning: F-score is ill-defined and being set to 0.0 due to no predicted samples.\n",
      "  'precision', 'predicted', average, warn_for)\n"
     ]
    },
    {
     "name": "stdout",
     "output_type": "stream",
     "text": [
      "[CV]  clf__estimator__max_features=sqrt, clf__estimator__min_samples_leaf=1, clf__estimator__n_estimators=25, score=0.2677432510337446, total= 1.8min\n",
      "[CV] clf__estimator__max_features=sqrt, clf__estimator__min_samples_leaf=1, clf__estimator__n_estimators=25 \n"
     ]
    },
    {
     "name": "stderr",
     "output_type": "stream",
     "text": [
      "/opt/conda/lib/python3.6/site-packages/sklearn/metrics/classification.py:1135: UndefinedMetricWarning: F-score is ill-defined and being set to 0.0 due to no predicted samples.\n",
      "  'precision', 'predicted', average, warn_for)\n"
     ]
    },
    {
     "name": "stdout",
     "output_type": "stream",
     "text": [
      "[CV]  clf__estimator__max_features=sqrt, clf__estimator__min_samples_leaf=1, clf__estimator__n_estimators=25, score=0.26155910380705344, total= 1.8min\n",
      "[CV] clf__estimator__max_features=sqrt, clf__estimator__min_samples_leaf=2, clf__estimator__n_estimators=10 \n"
     ]
    },
    {
     "name": "stderr",
     "output_type": "stream",
     "text": [
      "/opt/conda/lib/python3.6/site-packages/sklearn/metrics/classification.py:1135: UndefinedMetricWarning: F-score is ill-defined and being set to 0.0 due to no predicted samples.\n",
      "  'precision', 'predicted', average, warn_for)\n"
     ]
    },
    {
     "name": "stdout",
     "output_type": "stream",
     "text": [
      "[CV]  clf__estimator__max_features=sqrt, clf__estimator__min_samples_leaf=2, clf__estimator__n_estimators=10, score=0.2007346322624172, total=  32.8s\n",
      "[CV] clf__estimator__max_features=sqrt, clf__estimator__min_samples_leaf=2, clf__estimator__n_estimators=10 \n"
     ]
    },
    {
     "name": "stderr",
     "output_type": "stream",
     "text": [
      "/opt/conda/lib/python3.6/site-packages/sklearn/metrics/classification.py:1135: UndefinedMetricWarning: F-score is ill-defined and being set to 0.0 due to no predicted samples.\n",
      "  'precision', 'predicted', average, warn_for)\n"
     ]
    },
    {
     "name": "stdout",
     "output_type": "stream",
     "text": [
      "[CV]  clf__estimator__max_features=sqrt, clf__estimator__min_samples_leaf=2, clf__estimator__n_estimators=10, score=0.20302355814232745, total=  32.5s\n",
      "[CV] clf__estimator__max_features=sqrt, clf__estimator__min_samples_leaf=2, clf__estimator__n_estimators=10 \n"
     ]
    },
    {
     "name": "stderr",
     "output_type": "stream",
     "text": [
      "/opt/conda/lib/python3.6/site-packages/sklearn/metrics/classification.py:1135: UndefinedMetricWarning: F-score is ill-defined and being set to 0.0 due to no predicted samples.\n",
      "  'precision', 'predicted', average, warn_for)\n"
     ]
    },
    {
     "name": "stdout",
     "output_type": "stream",
     "text": [
      "[CV]  clf__estimator__max_features=sqrt, clf__estimator__min_samples_leaf=2, clf__estimator__n_estimators=10, score=0.20755231797560914, total=  33.2s\n",
      "[CV] clf__estimator__max_features=sqrt, clf__estimator__min_samples_leaf=2, clf__estimator__n_estimators=25 \n"
     ]
    },
    {
     "name": "stderr",
     "output_type": "stream",
     "text": [
      "/opt/conda/lib/python3.6/site-packages/sklearn/metrics/classification.py:1135: UndefinedMetricWarning: F-score is ill-defined and being set to 0.0 due to no predicted samples.\n",
      "  'precision', 'predicted', average, warn_for)\n"
     ]
    },
    {
     "name": "stdout",
     "output_type": "stream",
     "text": [
      "[CV]  clf__estimator__max_features=sqrt, clf__estimator__min_samples_leaf=2, clf__estimator__n_estimators=25, score=0.1888459819616514, total= 1.0min\n",
      "[CV] clf__estimator__max_features=sqrt, clf__estimator__min_samples_leaf=2, clf__estimator__n_estimators=25 \n"
     ]
    },
    {
     "name": "stderr",
     "output_type": "stream",
     "text": [
      "/opt/conda/lib/python3.6/site-packages/sklearn/metrics/classification.py:1135: UndefinedMetricWarning: F-score is ill-defined and being set to 0.0 due to no predicted samples.\n",
      "  'precision', 'predicted', average, warn_for)\n"
     ]
    },
    {
     "name": "stdout",
     "output_type": "stream",
     "text": [
      "[CV]  clf__estimator__max_features=sqrt, clf__estimator__min_samples_leaf=2, clf__estimator__n_estimators=25, score=0.18974570545586228, total= 1.0min\n",
      "[CV] clf__estimator__max_features=sqrt, clf__estimator__min_samples_leaf=2, clf__estimator__n_estimators=25 \n"
     ]
    },
    {
     "name": "stderr",
     "output_type": "stream",
     "text": [
      "/opt/conda/lib/python3.6/site-packages/sklearn/metrics/classification.py:1135: UndefinedMetricWarning: F-score is ill-defined and being set to 0.0 due to no predicted samples.\n",
      "  'precision', 'predicted', average, warn_for)\n"
     ]
    },
    {
     "name": "stdout",
     "output_type": "stream",
     "text": [
      "[CV]  clf__estimator__max_features=sqrt, clf__estimator__min_samples_leaf=2, clf__estimator__n_estimators=25, score=0.17840200443874638, total= 1.0min\n",
      "[CV] clf__estimator__max_features=sqrt, clf__estimator__min_samples_leaf=5, clf__estimator__n_estimators=10 \n"
     ]
    },
    {
     "name": "stderr",
     "output_type": "stream",
     "text": [
      "/opt/conda/lib/python3.6/site-packages/sklearn/metrics/classification.py:1135: UndefinedMetricWarning: F-score is ill-defined and being set to 0.0 due to no predicted samples.\n",
      "  'precision', 'predicted', average, warn_for)\n"
     ]
    },
    {
     "name": "stdout",
     "output_type": "stream",
     "text": [
      "[CV]  clf__estimator__max_features=sqrt, clf__estimator__min_samples_leaf=5, clf__estimator__n_estimators=10, score=0.1575135236691443, total=  27.3s\n",
      "[CV] clf__estimator__max_features=sqrt, clf__estimator__min_samples_leaf=5, clf__estimator__n_estimators=10 \n"
     ]
    },
    {
     "name": "stderr",
     "output_type": "stream",
     "text": [
      "/opt/conda/lib/python3.6/site-packages/sklearn/metrics/classification.py:1135: UndefinedMetricWarning: F-score is ill-defined and being set to 0.0 due to no predicted samples.\n",
      "  'precision', 'predicted', average, warn_for)\n"
     ]
    },
    {
     "name": "stdout",
     "output_type": "stream",
     "text": [
      "[CV]  clf__estimator__max_features=sqrt, clf__estimator__min_samples_leaf=5, clf__estimator__n_estimators=10, score=0.14533241665799945, total=  28.4s\n",
      "[CV] clf__estimator__max_features=sqrt, clf__estimator__min_samples_leaf=5, clf__estimator__n_estimators=10 \n"
     ]
    },
    {
     "name": "stderr",
     "output_type": "stream",
     "text": [
      "/opt/conda/lib/python3.6/site-packages/sklearn/metrics/classification.py:1135: UndefinedMetricWarning: F-score is ill-defined and being set to 0.0 due to no predicted samples.\n",
      "  'precision', 'predicted', average, warn_for)\n"
     ]
    },
    {
     "name": "stdout",
     "output_type": "stream",
     "text": [
      "[CV]  clf__estimator__max_features=sqrt, clf__estimator__min_samples_leaf=5, clf__estimator__n_estimators=10, score=0.1444566650710283, total=  27.6s\n",
      "[CV] clf__estimator__max_features=sqrt, clf__estimator__min_samples_leaf=5, clf__estimator__n_estimators=25 \n"
     ]
    },
    {
     "name": "stderr",
     "output_type": "stream",
     "text": [
      "/opt/conda/lib/python3.6/site-packages/sklearn/metrics/classification.py:1135: UndefinedMetricWarning: F-score is ill-defined and being set to 0.0 due to no predicted samples.\n",
      "  'precision', 'predicted', average, warn_for)\n"
     ]
    },
    {
     "name": "stdout",
     "output_type": "stream",
     "text": [
      "[CV]  clf__estimator__max_features=sqrt, clf__estimator__min_samples_leaf=5, clf__estimator__n_estimators=25, score=0.1359274137715551, total=  48.5s\n",
      "[CV] clf__estimator__max_features=sqrt, clf__estimator__min_samples_leaf=5, clf__estimator__n_estimators=25 \n"
     ]
    },
    {
     "name": "stderr",
     "output_type": "stream",
     "text": [
      "/opt/conda/lib/python3.6/site-packages/sklearn/metrics/classification.py:1135: UndefinedMetricWarning: F-score is ill-defined and being set to 0.0 due to no predicted samples.\n",
      "  'precision', 'predicted', average, warn_for)\n"
     ]
    },
    {
     "name": "stdout",
     "output_type": "stream",
     "text": [
      "[CV]  clf__estimator__max_features=sqrt, clf__estimator__min_samples_leaf=5, clf__estimator__n_estimators=25, score=0.14414339496012574, total=  48.6s\n",
      "[CV] clf__estimator__max_features=sqrt, clf__estimator__min_samples_leaf=5, clf__estimator__n_estimators=25 \n"
     ]
    },
    {
     "name": "stderr",
     "output_type": "stream",
     "text": [
      "/opt/conda/lib/python3.6/site-packages/sklearn/metrics/classification.py:1135: UndefinedMetricWarning: F-score is ill-defined and being set to 0.0 due to no predicted samples.\n",
      "  'precision', 'predicted', average, warn_for)\n"
     ]
    },
    {
     "name": "stdout",
     "output_type": "stream",
     "text": [
      "[CV]  clf__estimator__max_features=sqrt, clf__estimator__min_samples_leaf=5, clf__estimator__n_estimators=25, score=0.13874037981099863, total=  48.6s\n"
     ]
    },
    {
     "name": "stderr",
     "output_type": "stream",
     "text": [
      "[Parallel(n_jobs=1)]: Done  36 out of  36 | elapsed: 42.0min finished\n"
     ]
    }
   ],
   "source": [
    "# Grid search\n",
    "\n",
    "parameters = {'clf__estimator__max_features': ['auto', 'sqrt'],\n",
    "              'clf__estimator__n_estimators':[10, 25], \n",
    "              'clf__estimator__min_samples_leaf':[1, 2, 5]}\n",
    "\n",
    "scorer = make_scorer(f1_metric)\n",
    "cv = GridSearchCV(pipe, param_grid = parameters, scoring = scorer, verbose = 10)\n",
    "\n",
    "# Find best parameters\n",
    "T_model = cv.fit(X_train, Y_train)"
   ]
  },
  {
   "cell_type": "code",
   "execution_count": 13,
   "metadata": {},
   "outputs": [
    {
     "name": "stderr",
     "output_type": "stream",
     "text": [
      "/opt/conda/lib/python3.6/site-packages/sklearn/utils/deprecation.py:122: FutureWarning: You are accessing a training score ('split0_train_score'), which will not be available by default any more in 0.21. If you need training scores, please set return_train_score=True\n",
      "  warnings.warn(*warn_args, **warn_kwargs)\n",
      "/opt/conda/lib/python3.6/site-packages/sklearn/utils/deprecation.py:122: FutureWarning: You are accessing a training score ('split1_train_score'), which will not be available by default any more in 0.21. If you need training scores, please set return_train_score=True\n",
      "  warnings.warn(*warn_args, **warn_kwargs)\n",
      "/opt/conda/lib/python3.6/site-packages/sklearn/utils/deprecation.py:122: FutureWarning: You are accessing a training score ('split2_train_score'), which will not be available by default any more in 0.21. If you need training scores, please set return_train_score=True\n",
      "  warnings.warn(*warn_args, **warn_kwargs)\n",
      "/opt/conda/lib/python3.6/site-packages/sklearn/utils/deprecation.py:122: FutureWarning: You are accessing a training score ('mean_train_score'), which will not be available by default any more in 0.21. If you need training scores, please set return_train_score=True\n",
      "  warnings.warn(*warn_args, **warn_kwargs)\n",
      "/opt/conda/lib/python3.6/site-packages/sklearn/utils/deprecation.py:122: FutureWarning: You are accessing a training score ('std_train_score'), which will not be available by default any more in 0.21. If you need training scores, please set return_train_score=True\n",
      "  warnings.warn(*warn_args, **warn_kwargs)\n"
     ]
    },
    {
     "data": {
      "text/plain": [
       "{'mean_fit_time': array([ 45.68647806,  99.61565026,  27.36395741,  53.51784754,\n",
       "         22.34025121,  41.28565613,  45.19965625,  99.57091045,\n",
       "         26.75274611,  53.20077912,  22.00269882,  40.96707479]),\n",
       " 'std_fit_time': array([ 0.38738712,  0.62588639,  0.4484571 ,  0.48665968,  0.29023603,\n",
       "         0.19152405,  0.07314988,  0.91693146,  0.38331256,  0.66352762,\n",
       "         0.34202859,  0.0252415 ]),\n",
       " 'mean_score_time': array([ 6.49214482,  9.3131365 ,  6.09022053,  8.59177128,  5.7653842 ,\n",
       "         7.64568194,  6.54241371,  9.2643489 ,  6.06418641,  8.44622207,\n",
       "         5.77603698,  7.61419296]),\n",
       " 'std_score_time': array([ 0.06399873,  0.10466689,  0.06687831,  0.08012878,  0.0326346 ,\n",
       "         0.09599008,  0.08396461,  0.18537006,  0.10644289,  0.03870142,\n",
       "         0.11224039,  0.0250766 ]),\n",
       " 'param_clf__estimator__max_features': masked_array(data = ['auto' 'auto' 'auto' 'auto' 'auto' 'auto' 'sqrt' 'sqrt' 'sqrt' 'sqrt'\n",
       "  'sqrt' 'sqrt'],\n",
       "              mask = [False False False False False False False False False False False False],\n",
       "        fill_value = ?),\n",
       " 'param_clf__estimator__min_samples_leaf': masked_array(data = [1 1 2 2 5 5 1 1 2 2 5 5],\n",
       "              mask = [False False False False False False False False False False False False],\n",
       "        fill_value = ?),\n",
       " 'param_clf__estimator__n_estimators': masked_array(data = [10 25 10 25 10 25 10 25 10 25 10 25],\n",
       "              mask = [False False False False False False False False False False False False],\n",
       "        fill_value = ?),\n",
       " 'params': [{'clf__estimator__max_features': 'auto',\n",
       "   'clf__estimator__min_samples_leaf': 1,\n",
       "   'clf__estimator__n_estimators': 10},\n",
       "  {'clf__estimator__max_features': 'auto',\n",
       "   'clf__estimator__min_samples_leaf': 1,\n",
       "   'clf__estimator__n_estimators': 25},\n",
       "  {'clf__estimator__max_features': 'auto',\n",
       "   'clf__estimator__min_samples_leaf': 2,\n",
       "   'clf__estimator__n_estimators': 10},\n",
       "  {'clf__estimator__max_features': 'auto',\n",
       "   'clf__estimator__min_samples_leaf': 2,\n",
       "   'clf__estimator__n_estimators': 25},\n",
       "  {'clf__estimator__max_features': 'auto',\n",
       "   'clf__estimator__min_samples_leaf': 5,\n",
       "   'clf__estimator__n_estimators': 10},\n",
       "  {'clf__estimator__max_features': 'auto',\n",
       "   'clf__estimator__min_samples_leaf': 5,\n",
       "   'clf__estimator__n_estimators': 25},\n",
       "  {'clf__estimator__max_features': 'sqrt',\n",
       "   'clf__estimator__min_samples_leaf': 1,\n",
       "   'clf__estimator__n_estimators': 10},\n",
       "  {'clf__estimator__max_features': 'sqrt',\n",
       "   'clf__estimator__min_samples_leaf': 1,\n",
       "   'clf__estimator__n_estimators': 25},\n",
       "  {'clf__estimator__max_features': 'sqrt',\n",
       "   'clf__estimator__min_samples_leaf': 2,\n",
       "   'clf__estimator__n_estimators': 10},\n",
       "  {'clf__estimator__max_features': 'sqrt',\n",
       "   'clf__estimator__min_samples_leaf': 2,\n",
       "   'clf__estimator__n_estimators': 25},\n",
       "  {'clf__estimator__max_features': 'sqrt',\n",
       "   'clf__estimator__min_samples_leaf': 5,\n",
       "   'clf__estimator__n_estimators': 10},\n",
       "  {'clf__estimator__max_features': 'sqrt',\n",
       "   'clf__estimator__min_samples_leaf': 5,\n",
       "   'clf__estimator__n_estimators': 25}],\n",
       " 'split0_test_score': array([ 0.23743645,  0.26008574,  0.18655953,  0.19442404,  0.15539554,\n",
       "         0.13223699,  0.22453125,  0.25433503,  0.20073463,  0.18884598,\n",
       "         0.15751352,  0.13592741]),\n",
       " 'split1_test_score': array([ 0.2408167 ,  0.26123321,  0.20711718,  0.19371319,  0.15961203,\n",
       "         0.14199832,  0.23897087,  0.26774325,  0.20302356,  0.18974571,\n",
       "         0.14533242,  0.14414339]),\n",
       " 'split2_test_score': array([ 0.24568274,  0.26742299,  0.20829125,  0.19680045,  0.14330321,\n",
       "         0.14027941,  0.24061409,  0.2615591 ,  0.20755232,  0.178402  ,\n",
       "         0.14445667,  0.13874038]),\n",
       " 'mean_test_score': array([ 0.24131176,  0.26291376,  0.20065562,  0.19497914,  0.15277072,\n",
       "         0.13817147,  0.23470512,  0.26121244,  0.20376999,  0.18566491,\n",
       "         0.14910109,  0.13960377]),\n",
       " 'std_test_score': array([ 0.00338465,  0.00322251,  0.00997932,  0.00132006,  0.00691185,\n",
       "         0.00425473,  0.00722548,  0.0054795 ,  0.00283288,  0.0051484 ,\n",
       "         0.00595944,  0.00340934]),\n",
       " 'rank_test_score': array([ 3,  1,  6,  7,  9, 12,  4,  2,  5,  8, 10, 11], dtype=int32),\n",
       " 'split0_train_score': array([ 0.90968553,  0.9813678 ,  0.28317781,  0.27804142,  0.16606043,\n",
       "         0.14506306,  0.90981137,  0.97966418,  0.30537212,  0.27652222,\n",
       "         0.16638865,  0.14507669]),\n",
       " 'split1_train_score': array([ 0.91250257,  0.9803207 ,  0.29872184,  0.27758   ,  0.17004678,\n",
       "         0.15528972,  0.91384092,  0.97956532,  0.29975996,  0.28441147,\n",
       "         0.15892389,  0.15838935]),\n",
       " 'split2_train_score': array([ 0.90958917,  0.97990626,  0.31037602,  0.28812211,  0.15972877,\n",
       "         0.15422057,  0.90607091,  0.98297863,  0.30978514,  0.26990835,\n",
       "         0.1565491 ,  0.15053857]),\n",
       " 'mean_train_score': array([ 0.91059242,  0.98053158,  0.29742523,  0.28124785,  0.16527866,\n",
       "         0.15152445,  0.90990774,  0.98073604,  0.3049724 ,  0.27694735,\n",
       "         0.16062055,  0.15133487]),\n",
       " 'std_train_score': array([ 0.00135125,  0.00061502,  0.01114141,  0.00486449,  0.00424843,\n",
       "         0.0045897 ,  0.00317283,  0.00158626,  0.00410251,  0.0059285 ,\n",
       "         0.00419231,  0.00546396])}"
      ]
     },
     "execution_count": 13,
     "metadata": {},
     "output_type": "execute_result"
    }
   ],
   "source": [
    "# Grid search results\n",
    "T_model.cv_results_"
   ]
  },
  {
   "cell_type": "code",
   "execution_count": 14,
   "metadata": {},
   "outputs": [
    {
     "data": {
      "text/plain": [
       "0.26291376424904955"
      ]
     },
     "execution_count": 14,
     "metadata": {},
     "output_type": "execute_result"
    }
   ],
   "source": [
    "#Top mean score\n",
    "np.max(T_model.cv_results_['mean_test_score'])"
   ]
  },
  {
   "cell_type": "code",
   "execution_count": 15,
   "metadata": {},
   "outputs": [
    {
     "data": {
      "text/plain": [
       "{'clf__estimator__max_features': 'auto',\n",
       " 'clf__estimator__min_samples_leaf': 1,\n",
       " 'clf__estimator__n_estimators': 25}"
      ]
     },
     "execution_count": 15,
     "metadata": {},
     "output_type": "execute_result"
    }
   ],
   "source": [
    "# Parameters for top mean score\n",
    "T_model.best_params_"
   ]
  },
  {
   "cell_type": "markdown",
   "metadata": {},
   "source": [
    "### 7. Test your model\n",
    "Show the accuracy, precision, and recall of the tuned model.  \n",
    "\n",
    "Since this project focuses on code quality, process, and  pipelines, there is no minimum performance metric needed to pass. However, make sure to fine tune your models for accuracy, precision and recall to make your project stand out - especially for your portfolio!"
   ]
  },
  {
   "cell_type": "code",
   "execution_count": 16,
   "metadata": {},
   "outputs": [
    {
     "name": "stdout",
     "output_type": "stream",
     "text": [
      "                       Precision Recall    F1\n",
      "related                     0.80   0.82  0.80\n",
      "request                     0.88   0.89  0.88\n",
      "offer                       0.99   1.00  0.99\n",
      "aid_related                 0.78   0.78  0.77\n",
      "medical_help                0.91   0.92  0.89\n",
      "medical_products            0.94   0.95  0.94\n",
      "search_and_rescue           0.96   0.97  0.96\n",
      "security                    0.96   0.98  0.97\n",
      "military                    0.96   0.97  0.96\n",
      "water                       0.95   0.95  0.95\n",
      "food                        0.93   0.93  0.93\n",
      "shelter                     0.93   0.94  0.93\n",
      "clothing                    0.98   0.99  0.98\n",
      "money                       0.97   0.98  0.97\n",
      "missing_people              0.99   0.99  0.98\n",
      "refugees                    0.96   0.97  0.96\n",
      "death                       0.96   0.96  0.95\n",
      "other_aid                   0.83   0.87  0.82\n",
      "infrastructure_related      0.89   0.94  0.91\n",
      "transport                   0.95   0.96  0.95\n",
      "buildings                   0.95   0.95  0.93\n",
      "electricity                 0.98   0.98  0.97\n",
      "tools                       0.99   0.99  0.99\n",
      "hospitals                   0.98   0.99  0.99\n",
      "shops                       0.99   1.00  0.99\n",
      "aid_centers                 0.98   0.99  0.98\n",
      "other_infrastructure        0.92   0.96  0.94\n",
      "weather_related             0.88   0.88  0.88\n",
      "floods                      0.95   0.95  0.94\n",
      "storm                       0.94   0.94  0.93\n",
      "fire                        0.98   0.99  0.98\n",
      "earthquake                  0.96   0.97  0.96\n",
      "cold                        0.97   0.98  0.97\n",
      "other_weather               0.94   0.95  0.93\n",
      "direct_report               0.85   0.86  0.84\n"
     ]
    },
    {
     "name": "stderr",
     "output_type": "stream",
     "text": [
      "/opt/conda/lib/python3.6/site-packages/sklearn/metrics/classification.py:1135: UndefinedMetricWarning: Precision and F-score are ill-defined and being set to 0.0 in labels with no predicted samples.\n",
      "  'precision', 'predicted', average, warn_for)\n"
     ]
    }
   ],
   "source": [
    "# evaluating metrics for test set\n",
    "tuned_pred_test = T_model.predict(X_test)\n",
    "\n",
    "class_report1 = class_report(np.array(Y_test), tuned_pred_test, col_names)\n",
    "\n",
    "print(class_report1)"
   ]
  },
  {
   "cell_type": "markdown",
   "metadata": {},
   "source": [
    "### 8. Try improving your model further. Here are a few ideas:\n",
    "* try other machine learning algorithms\n",
    "* add other features besides the TF-IDF"
   ]
  },
  {
   "cell_type": "markdown",
   "metadata": {},
   "source": [
    "In this part, I will use K-Nearest Neighbour instead. KNN common hyperparameter is n_neighbors."
   ]
  },
  {
   "cell_type": "code",
   "execution_count": 17,
   "metadata": {},
   "outputs": [
    {
     "name": "stdout",
     "output_type": "stream",
     "text": [
      "Fitting 3 folds for each of 9 candidates, totalling 27 fits\n",
      "[CV] clf__estimator__n_neighbors=1 ...................................\n",
      "[CV]  clf__estimator__n_neighbors=1, score=0.2606111256917721, total= 1.7min\n"
     ]
    },
    {
     "name": "stderr",
     "output_type": "stream",
     "text": [
      "[Parallel(n_jobs=1)]: Done   1 out of   1 | elapsed:  4.8min remaining:    0.0s\n"
     ]
    },
    {
     "name": "stdout",
     "output_type": "stream",
     "text": [
      "[CV] clf__estimator__n_neighbors=1 ...................................\n",
      "[CV]  clf__estimator__n_neighbors=1, score=0.26838467901651075, total= 1.8min\n",
      "[CV] clf__estimator__n_neighbors=1 ...................................\n"
     ]
    },
    {
     "name": "stderr",
     "output_type": "stream",
     "text": [
      "[Parallel(n_jobs=1)]: Done   2 out of   2 | elapsed:  9.6min remaining:    0.0s\n"
     ]
    },
    {
     "name": "stdout",
     "output_type": "stream",
     "text": [
      "[CV]  clf__estimator__n_neighbors=1, score=0.2582580207793079, total= 1.7min\n",
      "[CV] clf__estimator__n_neighbors=2 ...................................\n"
     ]
    },
    {
     "name": "stderr",
     "output_type": "stream",
     "text": [
      "[Parallel(n_jobs=1)]: Done   3 out of   3 | elapsed: 14.3min remaining:    0.0s\n",
      "/opt/conda/lib/python3.6/site-packages/sklearn/metrics/classification.py:1135: UndefinedMetricWarning: F-score is ill-defined and being set to 0.0 due to no predicted samples.\n",
      "  'precision', 'predicted', average, warn_for)\n"
     ]
    },
    {
     "name": "stdout",
     "output_type": "stream",
     "text": [
      "[CV]  clf__estimator__n_neighbors=2, score=0.17987131858211888, total= 1.8min\n",
      "[CV] clf__estimator__n_neighbors=2 ...................................\n"
     ]
    },
    {
     "name": "stderr",
     "output_type": "stream",
     "text": [
      "[Parallel(n_jobs=1)]: Done   4 out of   4 | elapsed: 19.3min remaining:    0.0s\n",
      "/opt/conda/lib/python3.6/site-packages/sklearn/metrics/classification.py:1135: UndefinedMetricWarning: F-score is ill-defined and being set to 0.0 due to no predicted samples.\n",
      "  'precision', 'predicted', average, warn_for)\n"
     ]
    },
    {
     "name": "stdout",
     "output_type": "stream",
     "text": [
      "[CV]  clf__estimator__n_neighbors=2, score=0.18265505908234694, total= 1.8min\n",
      "[CV] clf__estimator__n_neighbors=2 ...................................\n"
     ]
    },
    {
     "name": "stderr",
     "output_type": "stream",
     "text": [
      "[Parallel(n_jobs=1)]: Done   5 out of   5 | elapsed: 24.3min remaining:    0.0s\n",
      "/opt/conda/lib/python3.6/site-packages/sklearn/metrics/classification.py:1135: UndefinedMetricWarning: F-score is ill-defined and being set to 0.0 due to no predicted samples.\n",
      "  'precision', 'predicted', average, warn_for)\n"
     ]
    },
    {
     "name": "stdout",
     "output_type": "stream",
     "text": [
      "[CV]  clf__estimator__n_neighbors=2, score=0.18248683700631266, total= 1.8min\n",
      "[CV] clf__estimator__n_neighbors=3 ...................................\n"
     ]
    },
    {
     "name": "stderr",
     "output_type": "stream",
     "text": [
      "[Parallel(n_jobs=1)]: Done   6 out of   6 | elapsed: 29.3min remaining:    0.0s\n",
      "/opt/conda/lib/python3.6/site-packages/sklearn/metrics/classification.py:1135: UndefinedMetricWarning: F-score is ill-defined and being set to 0.0 due to no predicted samples.\n",
      "  'precision', 'predicted', average, warn_for)\n"
     ]
    },
    {
     "name": "stdout",
     "output_type": "stream",
     "text": [
      "[CV]  clf__estimator__n_neighbors=3, score=0.26172835154017227, total= 1.9min\n",
      "[CV] clf__estimator__n_neighbors=3 ...................................\n"
     ]
    },
    {
     "name": "stderr",
     "output_type": "stream",
     "text": [
      "[Parallel(n_jobs=1)]: Done   7 out of   7 | elapsed: 34.6min remaining:    0.0s\n",
      "/opt/conda/lib/python3.6/site-packages/sklearn/metrics/classification.py:1135: UndefinedMetricWarning: F-score is ill-defined and being set to 0.0 due to no predicted samples.\n",
      "  'precision', 'predicted', average, warn_for)\n"
     ]
    },
    {
     "name": "stdout",
     "output_type": "stream",
     "text": [
      "[CV]  clf__estimator__n_neighbors=3, score=0.25920867800153824, total= 1.9min\n",
      "[CV] clf__estimator__n_neighbors=3 ...................................\n"
     ]
    },
    {
     "name": "stderr",
     "output_type": "stream",
     "text": [
      "[Parallel(n_jobs=1)]: Done   8 out of   8 | elapsed: 39.9min remaining:    0.0s\n",
      "/opt/conda/lib/python3.6/site-packages/sklearn/metrics/classification.py:1135: UndefinedMetricWarning: F-score is ill-defined and being set to 0.0 due to no predicted samples.\n",
      "  'precision', 'predicted', average, warn_for)\n"
     ]
    },
    {
     "name": "stdout",
     "output_type": "stream",
     "text": [
      "[CV]  clf__estimator__n_neighbors=3, score=0.2614017261261786, total= 1.9min\n",
      "[CV] clf__estimator__n_neighbors=4 ...................................\n"
     ]
    },
    {
     "name": "stderr",
     "output_type": "stream",
     "text": [
      "[Parallel(n_jobs=1)]: Done   9 out of   9 | elapsed: 45.3min remaining:    0.0s\n",
      "/opt/conda/lib/python3.6/site-packages/sklearn/metrics/classification.py:1135: UndefinedMetricWarning: F-score is ill-defined and being set to 0.0 due to no predicted samples.\n",
      "  'precision', 'predicted', average, warn_for)\n"
     ]
    },
    {
     "name": "stdout",
     "output_type": "stream",
     "text": [
      "[CV]  clf__estimator__n_neighbors=4, score=0.19017902721080684, total= 2.2min\n",
      "[CV] clf__estimator__n_neighbors=4 ...................................\n"
     ]
    },
    {
     "name": "stderr",
     "output_type": "stream",
     "text": [
      "/opt/conda/lib/python3.6/site-packages/sklearn/metrics/classification.py:1135: UndefinedMetricWarning: F-score is ill-defined and being set to 0.0 due to no predicted samples.\n",
      "  'precision', 'predicted', average, warn_for)\n"
     ]
    },
    {
     "name": "stdout",
     "output_type": "stream",
     "text": [
      "[CV]  clf__estimator__n_neighbors=4, score=0.18864497332840657, total= 2.0min\n",
      "[CV] clf__estimator__n_neighbors=4 ...................................\n"
     ]
    },
    {
     "name": "stderr",
     "output_type": "stream",
     "text": [
      "/opt/conda/lib/python3.6/site-packages/sklearn/metrics/classification.py:1135: UndefinedMetricWarning: F-score is ill-defined and being set to 0.0 due to no predicted samples.\n",
      "  'precision', 'predicted', average, warn_for)\n"
     ]
    },
    {
     "name": "stdout",
     "output_type": "stream",
     "text": [
      "[CV]  clf__estimator__n_neighbors=4, score=0.19891672272756222, total= 2.1min\n",
      "[CV] clf__estimator__n_neighbors=5 ...................................\n"
     ]
    },
    {
     "name": "stderr",
     "output_type": "stream",
     "text": [
      "/opt/conda/lib/python3.6/site-packages/sklearn/metrics/classification.py:1135: UndefinedMetricWarning: F-score is ill-defined and being set to 0.0 due to no predicted samples.\n",
      "  'precision', 'predicted', average, warn_for)\n",
      "/opt/conda/lib/python3.6/site-packages/sklearn/metrics/classification.py:1135: UndefinedMetricWarning: F-score is ill-defined and being set to 0.0 due to no predicted samples.\n",
      "  'precision', 'predicted', average, warn_for)\n"
     ]
    },
    {
     "name": "stdout",
     "output_type": "stream",
     "text": [
      "[CV]  clf__estimator__n_neighbors=5, score=0.2427820435158985, total= 2.1min\n",
      "[CV] clf__estimator__n_neighbors=5 ...................................\n"
     ]
    },
    {
     "name": "stderr",
     "output_type": "stream",
     "text": [
      "/opt/conda/lib/python3.6/site-packages/sklearn/metrics/classification.py:1135: UndefinedMetricWarning: F-score is ill-defined and being set to 0.0 due to no predicted samples.\n",
      "  'precision', 'predicted', average, warn_for)\n"
     ]
    },
    {
     "name": "stdout",
     "output_type": "stream",
     "text": [
      "[CV]  clf__estimator__n_neighbors=5, score=0.24809315179087596, total= 2.2min\n",
      "[CV] clf__estimator__n_neighbors=6 ...................................\n"
     ]
    },
    {
     "name": "stderr",
     "output_type": "stream",
     "text": [
      "/opt/conda/lib/python3.6/site-packages/sklearn/metrics/classification.py:1135: UndefinedMetricWarning: F-score is ill-defined and being set to 0.0 due to no predicted samples.\n",
      "  'precision', 'predicted', average, warn_for)\n"
     ]
    },
    {
     "name": "stdout",
     "output_type": "stream",
     "text": [
      "[CV]  clf__estimator__n_neighbors=6, score=0.19787630672297593, total= 2.2min\n",
      "[CV] clf__estimator__n_neighbors=6 ...................................\n"
     ]
    },
    {
     "name": "stderr",
     "output_type": "stream",
     "text": [
      "/opt/conda/lib/python3.6/site-packages/sklearn/metrics/classification.py:1135: UndefinedMetricWarning: F-score is ill-defined and being set to 0.0 due to no predicted samples.\n",
      "  'precision', 'predicted', average, warn_for)\n"
     ]
    },
    {
     "name": "stdout",
     "output_type": "stream",
     "text": [
      "[CV]  clf__estimator__n_neighbors=6, score=0.19141679329320213, total= 2.1min\n",
      "[CV] clf__estimator__n_neighbors=6 ...................................\n"
     ]
    },
    {
     "name": "stderr",
     "output_type": "stream",
     "text": [
      "/opt/conda/lib/python3.6/site-packages/sklearn/metrics/classification.py:1135: UndefinedMetricWarning: F-score is ill-defined and being set to 0.0 due to no predicted samples.\n",
      "  'precision', 'predicted', average, warn_for)\n"
     ]
    },
    {
     "name": "stdout",
     "output_type": "stream",
     "text": [
      "[CV]  clf__estimator__n_neighbors=6, score=0.19865950297547716, total= 2.2min\n",
      "[CV] clf__estimator__n_neighbors=7 ...................................\n"
     ]
    },
    {
     "name": "stderr",
     "output_type": "stream",
     "text": [
      "/opt/conda/lib/python3.6/site-packages/sklearn/metrics/classification.py:1135: UndefinedMetricWarning: F-score is ill-defined and being set to 0.0 due to no predicted samples.\n",
      "  'precision', 'predicted', average, warn_for)\n"
     ]
    },
    {
     "name": "stdout",
     "output_type": "stream",
     "text": [
      "[CV]  clf__estimator__n_neighbors=7, score=0.23564454381720737, total= 2.2min\n",
      "[CV] clf__estimator__n_neighbors=7 ...................................\n"
     ]
    },
    {
     "name": "stderr",
     "output_type": "stream",
     "text": [
      "/opt/conda/lib/python3.6/site-packages/sklearn/metrics/classification.py:1135: UndefinedMetricWarning: F-score is ill-defined and being set to 0.0 due to no predicted samples.\n",
      "  'precision', 'predicted', average, warn_for)\n"
     ]
    },
    {
     "name": "stdout",
     "output_type": "stream",
     "text": [
      "[CV]  clf__estimator__n_neighbors=7, score=0.230801305621549, total= 2.0min\n",
      "[CV] clf__estimator__n_neighbors=7 ...................................\n"
     ]
    },
    {
     "name": "stderr",
     "output_type": "stream",
     "text": [
      "/opt/conda/lib/python3.6/site-packages/sklearn/metrics/classification.py:1135: UndefinedMetricWarning: F-score is ill-defined and being set to 0.0 due to no predicted samples.\n",
      "  'precision', 'predicted', average, warn_for)\n"
     ]
    },
    {
     "name": "stdout",
     "output_type": "stream",
     "text": [
      "[CV]  clf__estimator__n_neighbors=7, score=0.23828164430976265, total= 2.2min\n",
      "[CV] clf__estimator__n_neighbors=8 ...................................\n"
     ]
    },
    {
     "name": "stderr",
     "output_type": "stream",
     "text": [
      "/opt/conda/lib/python3.6/site-packages/sklearn/metrics/classification.py:1135: UndefinedMetricWarning: F-score is ill-defined and being set to 0.0 due to no predicted samples.\n",
      "  'precision', 'predicted', average, warn_for)\n"
     ]
    },
    {
     "name": "stdout",
     "output_type": "stream",
     "text": [
      "[CV]  clf__estimator__n_neighbors=8, score=0.19766369997100075, total= 2.2min\n",
      "[CV] clf__estimator__n_neighbors=8 ...................................\n"
     ]
    },
    {
     "name": "stderr",
     "output_type": "stream",
     "text": [
      "/opt/conda/lib/python3.6/site-packages/sklearn/metrics/classification.py:1135: UndefinedMetricWarning: F-score is ill-defined and being set to 0.0 due to no predicted samples.\n",
      "  'precision', 'predicted', average, warn_for)\n"
     ]
    },
    {
     "name": "stdout",
     "output_type": "stream",
     "text": [
      "[CV]  clf__estimator__n_neighbors=8, score=0.1923121483620712, total= 2.1min\n",
      "[CV] clf__estimator__n_neighbors=8 ...................................\n"
     ]
    },
    {
     "name": "stderr",
     "output_type": "stream",
     "text": [
      "/opt/conda/lib/python3.6/site-packages/sklearn/metrics/classification.py:1135: UndefinedMetricWarning: F-score is ill-defined and being set to 0.0 due to no predicted samples.\n",
      "  'precision', 'predicted', average, warn_for)\n"
     ]
    },
    {
     "name": "stdout",
     "output_type": "stream",
     "text": [
      "[CV]  clf__estimator__n_neighbors=8, score=0.1978577049193884, total= 2.2min\n",
      "[CV] clf__estimator__n_neighbors=9 ...................................\n"
     ]
    },
    {
     "name": "stderr",
     "output_type": "stream",
     "text": [
      "/opt/conda/lib/python3.6/site-packages/sklearn/metrics/classification.py:1135: UndefinedMetricWarning: F-score is ill-defined and being set to 0.0 due to no predicted samples.\n",
      "  'precision', 'predicted', average, warn_for)\n"
     ]
    },
    {
     "name": "stdout",
     "output_type": "stream",
     "text": [
      "[CV]  clf__estimator__n_neighbors=9, score=0.22573862558476715, total= 2.2min\n",
      "[CV] clf__estimator__n_neighbors=9 ...................................\n"
     ]
    },
    {
     "name": "stderr",
     "output_type": "stream",
     "text": [
      "/opt/conda/lib/python3.6/site-packages/sklearn/metrics/classification.py:1135: UndefinedMetricWarning: F-score is ill-defined and being set to 0.0 due to no predicted samples.\n",
      "  'precision', 'predicted', average, warn_for)\n"
     ]
    },
    {
     "name": "stdout",
     "output_type": "stream",
     "text": [
      "[CV]  clf__estimator__n_neighbors=9, score=0.22187684757292245, total= 2.1min\n",
      "[CV] clf__estimator__n_neighbors=9 ...................................\n"
     ]
    },
    {
     "name": "stderr",
     "output_type": "stream",
     "text": [
      "/opt/conda/lib/python3.6/site-packages/sklearn/metrics/classification.py:1135: UndefinedMetricWarning: F-score is ill-defined and being set to 0.0 due to no predicted samples.\n",
      "  'precision', 'predicted', average, warn_for)\n"
     ]
    },
    {
     "name": "stdout",
     "output_type": "stream",
     "text": [
      "[CV]  clf__estimator__n_neighbors=9, score=0.22676257176860584, total= 2.2min\n"
     ]
    },
    {
     "name": "stderr",
     "output_type": "stream",
     "text": [
      "[Parallel(n_jobs=1)]: Done  27 out of  27 | elapsed: 154.4min finished\n"
     ]
    }
   ],
   "source": [
    "# using SVM instead \n",
    "pipe2 = Pipeline([\n",
    "    ('vect', CountVectorizer(tokenizer = tokenize)),\n",
    "    ('tfidf', TfidfTransformer()),\n",
    "    ('clf', MultiOutputClassifier(KNeighborsClassifier()))\n",
    "])\n",
    "\n",
    "parameters2 = {'clf__estimator__n_neighbors': list(range(1, 10))}\n",
    "\n",
    "cv2 = GridSearchCV(pipe2, param_grid = parameters2, scoring = scorer, verbose = 10)\n",
    "\n",
    "# Find best parameters\n",
    "T_model2 = cv2.fit(X_train, Y_train)"
   ]
  },
  {
   "cell_type": "code",
   "execution_count": 18,
   "metadata": {},
   "outputs": [
    {
     "name": "stderr",
     "output_type": "stream",
     "text": [
      "/opt/conda/lib/python3.6/site-packages/sklearn/utils/deprecation.py:122: FutureWarning: You are accessing a training score ('split0_train_score'), which will not be available by default any more in 0.21. If you need training scores, please set return_train_score=True\n",
      "  warnings.warn(*warn_args, **warn_kwargs)\n",
      "/opt/conda/lib/python3.6/site-packages/sklearn/utils/deprecation.py:122: FutureWarning: You are accessing a training score ('split1_train_score'), which will not be available by default any more in 0.21. If you need training scores, please set return_train_score=True\n",
      "  warnings.warn(*warn_args, **warn_kwargs)\n",
      "/opt/conda/lib/python3.6/site-packages/sklearn/utils/deprecation.py:122: FutureWarning: You are accessing a training score ('split2_train_score'), which will not be available by default any more in 0.21. If you need training scores, please set return_train_score=True\n",
      "  warnings.warn(*warn_args, **warn_kwargs)\n",
      "/opt/conda/lib/python3.6/site-packages/sklearn/utils/deprecation.py:122: FutureWarning: You are accessing a training score ('mean_train_score'), which will not be available by default any more in 0.21. If you need training scores, please set return_train_score=True\n",
      "  warnings.warn(*warn_args, **warn_kwargs)\n",
      "/opt/conda/lib/python3.6/site-packages/sklearn/utils/deprecation.py:122: FutureWarning: You are accessing a training score ('std_train_score'), which will not be available by default any more in 0.21. If you need training scores, please set return_train_score=True\n",
      "  warnings.warn(*warn_args, **warn_kwargs)\n"
     ]
    },
    {
     "data": {
      "text/plain": [
       "{'mean_fit_time': array([ 11.68767277,   9.10743499,   9.20784616,   9.39911215,\n",
       "          9.39787086,   9.46107856,   9.36081529,   9.37413168,   9.37441858]),\n",
       " 'std_fit_time': array([ 3.61072666,  0.04261246,  0.10911793,  0.0717791 ,  0.09359811,\n",
       "         0.16565664,  0.30058454,  0.06922401,  0.09086074]),\n",
       " 'mean_score_time': array([  91.61345895,   96.76825674,  103.50570345,  117.21668283,\n",
       "         117.24851584,  119.80586449,  118.53870471,  120.50011071,\n",
       "         120.70730511]),\n",
       " 'std_score_time': array([ 0.51926669,  0.38556702,  0.20687187,  4.39507754,  2.75520475,\n",
       "         4.24747835,  4.86139882,  1.97319445,  1.84714495]),\n",
       " 'param_clf__estimator__n_neighbors': masked_array(data = [1 2 3 4 5 6 7 8 9],\n",
       "              mask = [False False False False False False False False False],\n",
       "        fill_value = ?),\n",
       " 'params': [{'clf__estimator__n_neighbors': 1},\n",
       "  {'clf__estimator__n_neighbors': 2},\n",
       "  {'clf__estimator__n_neighbors': 3},\n",
       "  {'clf__estimator__n_neighbors': 4},\n",
       "  {'clf__estimator__n_neighbors': 5},\n",
       "  {'clf__estimator__n_neighbors': 6},\n",
       "  {'clf__estimator__n_neighbors': 7},\n",
       "  {'clf__estimator__n_neighbors': 8},\n",
       "  {'clf__estimator__n_neighbors': 9}],\n",
       " 'split0_test_score': array([ 0.26061113,  0.17987132,  0.26172835,  0.19017903,  0.24702127,\n",
       "         0.19787631,  0.23564454,  0.1976637 ,  0.22573863]),\n",
       " 'split1_test_score': array([ 0.26838468,  0.18265506,  0.25920868,  0.18864497,  0.24278204,\n",
       "         0.19141679,  0.23080131,  0.19231215,  0.22187685]),\n",
       " 'split2_test_score': array([ 0.25825802,  0.18248684,  0.26140173,  0.19891672,  0.24809315,\n",
       "         0.1986595 ,  0.23828164,  0.1978577 ,  0.22676257]),\n",
       " 'mean_test_score': array([ 0.26241814,  0.18167103,  0.26077956,  0.19257994,  0.24596539,\n",
       "         0.19598407,  0.234909  ,  0.19594443,  0.22479259]),\n",
       " 'std_test_score': array([ 0.00432711,  0.00127449,  0.00111879,  0.00452402,  0.00229318,\n",
       "         0.00324546,  0.00309778,  0.00256972,  0.00210376]),\n",
       " 'rank_test_score': array([1, 9, 2, 8, 3, 6, 4, 7, 5], dtype=int32),\n",
       " 'split0_train_score': array([ 0.99801373,  0.36972327,  0.46795237,  0.2992005 ,  0.36032269,\n",
       "         0.26446035,  0.30882186,  0.25129258,  0.28194746]),\n",
       " 'split1_train_score': array([ 0.99852417,  0.36608703,  0.46640972,  0.29671178,  0.3591045 ,\n",
       "         0.26562864,  0.30928143,  0.24469424,  0.28092913]),\n",
       " 'split2_train_score': array([ 0.99892681,  0.36970342,  0.46831514,  0.296618  ,  0.35730125,\n",
       "         0.2631376 ,  0.30517892,  0.24443028,  0.27678101]),\n",
       " 'mean_train_score': array([ 0.99848824,  0.36850458,  0.46755908,  0.29751009,  0.35890948,\n",
       "         0.26440886,  0.30776074,  0.2468057 ,  0.27988587]),\n",
       " 'std_train_score': array([ 0.00037363,  0.00170948,  0.0008261 ,  0.00119591,  0.00124118,\n",
       "         0.00101761,  0.00183524,  0.00317453,  0.00223448])}"
      ]
     },
     "execution_count": 18,
     "metadata": {},
     "output_type": "execute_result"
    }
   ],
   "source": [
    "# grid search results\n",
    "T_model2.cv_results_"
   ]
  },
  {
   "cell_type": "code",
   "execution_count": 20,
   "metadata": {},
   "outputs": [
    {
     "name": "stdout",
     "output_type": "stream",
     "text": [
      "                       Precision Recall    F1\n",
      "related                     0.74   0.73  0.74\n",
      "request                     0.82   0.81  0.82\n",
      "offer                       0.99   0.99  0.99\n",
      "aid_related                 0.64   0.65  0.65\n",
      "medical_help                0.88   0.89  0.88\n",
      "medical_products            0.93   0.93  0.93\n",
      "search_and_rescue           0.95   0.95  0.95\n",
      "security                    0.96   0.96  0.96\n",
      "military                    0.95   0.96  0.95\n",
      "water                       0.91   0.92  0.91\n",
      "food                        0.87   0.87  0.87\n",
      "shelter                     0.88   0.89  0.88\n",
      "clothing                    0.98   0.98  0.98\n",
      "money                       0.96   0.97  0.96\n",
      "missing_people              0.98   0.98  0.98\n",
      "refugees                    0.95   0.95  0.95\n",
      "death                       0.94   0.94  0.94\n",
      "other_aid                   0.81   0.80  0.80\n",
      "infrastructure_related      0.90   0.90  0.90\n",
      "transport                   0.93   0.93  0.93\n",
      "buildings                   0.92   0.93  0.93\n",
      "electricity                 0.97   0.97  0.97\n",
      "tools                       0.99   0.99  0.99\n",
      "hospitals                   0.98   0.98  0.98\n",
      "shops                       0.99   0.99  0.99\n",
      "aid_centers                 0.98   0.98  0.98\n",
      "other_infrastructure        0.93   0.93  0.93\n",
      "weather_related             0.75   0.75  0.75\n",
      "floods                      0.89   0.89  0.89\n",
      "storm                       0.89   0.90  0.89\n",
      "fire                        0.98   0.98  0.98\n",
      "earthquake                  0.91   0.90  0.90\n",
      "cold                        0.97   0.97  0.97\n",
      "other_weather               0.92   0.92  0.92\n",
      "direct_report               0.78   0.78  0.78\n"
     ]
    }
   ],
   "source": [
    "# Calculate evaluation metrics for test set\n",
    "tuned_pred_test2 = T_model2.predict(X_test)\n",
    "\n",
    "class_report2 = class_report(np.array(Y_test), tuned_pred_test2, col_names)\n",
    "\n",
    "print(class_report2)"
   ]
  },
  {
   "cell_type": "markdown",
   "metadata": {},
   "source": [
    "### 9. Export your model as a pickle file"
   ]
  },
  {
   "cell_type": "markdown",
   "metadata": {},
   "source": [
    "Comparing 2 models, we can see that the first one has higher f1 score, precision and recall. Therefore, I will export T_model."
   ]
  },
  {
   "cell_type": "code",
   "execution_count": 21,
   "metadata": {},
   "outputs": [],
   "source": [
    "# Pickle best model\n",
    "pickle.dump(T_model, open('disaster_model.sav', 'wb'))"
   ]
  },
  {
   "cell_type": "markdown",
   "metadata": {},
   "source": [
    "### 10. Use this notebook to complete `train.py`\n",
    "Use the template file attached in the Resources folder to write a script that runs the steps above to create a database and export a model based on a new dataset specified by the user."
   ]
  },
  {
   "cell_type": "code",
   "execution_count": null,
   "metadata": {},
   "outputs": [],
   "source": []
  }
 ],
 "metadata": {
  "kernelspec": {
   "display_name": "Python 3",
   "language": "python",
   "name": "python3"
  },
  "language_info": {
   "codemirror_mode": {
    "name": "ipython",
    "version": 3
   },
   "file_extension": ".py",
   "mimetype": "text/x-python",
   "name": "python",
   "nbconvert_exporter": "python",
   "pygments_lexer": "ipython3",
   "version": "3.6.3"
  }
 },
 "nbformat": 4,
 "nbformat_minor": 2
}
